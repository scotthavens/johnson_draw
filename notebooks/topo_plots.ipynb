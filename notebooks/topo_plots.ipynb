{
 "cells": [
  {
   "cell_type": "markdown",
   "metadata": {},
   "source": [
    "# Topo plots"
   ]
  },
  {
   "cell_type": "code",
   "execution_count": null,
   "metadata": {},
   "outputs": [],
   "source": [
    "import numpy as np\n",
    "import xarray as xr\n",
    "import ipywidgets as widgets\n",
    "%matplotlib inline"
   ]
  },
  {
   "cell_type": "code",
   "execution_count": null,
   "metadata": {},
   "outputs": [],
   "source": [
    "topo = xr.open_dataset('../topo/topo_noveg.nc')\n",
    "topo"
   ]
  },
  {
   "cell_type": "code",
   "execution_count": null,
   "metadata": {},
   "outputs": [],
   "source": [
    "topo.dem.plot()"
   ]
  },
  {
   "cell_type": "code",
   "execution_count": null,
   "metadata": {},
   "outputs": [],
   "source": [
    "topo.veg_type.plot()"
   ]
  },
  {
   "cell_type": "code",
   "execution_count": null,
   "metadata": {},
   "outputs": [],
   "source": [
    "topo.veg_height.plot()"
   ]
  },
  {
   "cell_type": "code",
   "execution_count": null,
   "metadata": {},
   "outputs": [],
   "source": [
    "# maxus\n",
    "# negative maxus are exposed, positive are sheltered\n",
    "maxus = xr.open_dataset('../topo/maxus_600_30cropped.nc')\n",
    "\n",
    "direction_select_slider = widgets.SelectionSlider(\n",
    "    options=maxus.direction.values,\n",
    "    layout={'width': '500px'},\n",
    "    orientation='horizontal',\n",
    "    readout=True\n",
    ")\n",
    "\n",
    "def display_data(direction):\n",
    "    idx = np.where(maxus.direction == direction)[0][0]\n",
    "    maxus.sel(Direction=idx).maxus.plot(\n",
    "        figsize=(20,10),\n",
    "        aspect='equal'\n",
    "    )\n",
    "\n",
    "%matplotlib inline\n",
    "widgets.interact(\n",
    "    display_data,\n",
    "    direction=direction_select_slider\n",
    ")"
   ]
  },
  {
   "cell_type": "code",
   "execution_count": null,
   "metadata": {},
   "outputs": [],
   "source": [
    "# tbreak\n",
    "# negative maxus are exposed, positive are sheltered\n",
    "tbreak = xr.open_dataset('../topo/tbreak_300_30cropped.nc')\n",
    "direction_select_slider = widgets.SelectionSlider(\n",
    "    options=tbreak.direction.values,\n",
    "    layout={'width': '500px'},\n",
    "    orientation='horizontal',\n",
    "    readout=True\n",
    ")\n",
    "\n",
    "def display_data(direction):\n",
    "    idx = np.where(tbreak.direction == direction)[0][0]\n",
    "    tbreak.sel(Direction=idx).tbreak.plot(\n",
    "        figsize=(20,10),\n",
    "        aspect='equal'\n",
    "    )\n",
    "\n",
    "%matplotlib inline\n",
    "widgets.interact(\n",
    "    display_data,\n",
    "    direction=direction_select_slider\n",
    ")"
   ]
  },
  {
   "cell_type": "code",
   "execution_count": null,
   "metadata": {},
   "outputs": [],
   "source": [
    "tbreak"
   ]
  }
 ],
 "metadata": {
  "kernelspec": {
   "display_name": "Python 3",
   "language": "python",
   "name": "python3"
  },
  "language_info": {
   "codemirror_mode": {
    "name": "ipython",
    "version": 3
   },
   "file_extension": ".py",
   "mimetype": "text/x-python",
   "name": "python",
   "nbconvert_exporter": "python",
   "pygments_lexer": "ipython3",
   "version": "3.6.9"
  }
 },
 "nbformat": 4,
 "nbformat_minor": 4
}
